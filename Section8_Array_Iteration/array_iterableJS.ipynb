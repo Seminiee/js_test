{
 "cells": [
  {
   "cell_type": "markdown",
   "metadata": {},
   "source": [
    "# Section 8 배열 & 반복 더 보기\n",
    "***"
   ]
  },
  {
   "cell_type": "markdown",
   "metadata": {},
   "source": [
    "### Section 8 185 (배열 생성하기)\n",
    "- 배열을 생성하는 여러 가지 방법\n",
    "```javascript\n",
    "const numbers = [1, 2, 3, ]; // 틀리는 경우가 없어서 권장되는 방법\n",
    "\n",
    "const moreNumbers = new Array(); // [] 잘 쓰지 않는 방법, 단일 숫자를 넣으면 크기와 길이가 정해짐\n",
    "//const moreNumbers = new Array(5); [empty x 5] -> 크기와 길이가 조절된 형태\n",
    "\n",
    "const moreNumbers = Array(5,2);\n",
    "\n",
    "const yetMoreNumbers = Array.of(1, 2);\n",
    "\n",
    "const moreNumbers = Array.from('Hi!'); // 이터러블이나 유사 배열 객체를 변환해 줌\n",
    "```"
   ]
  },
  {
   "cell_type": "code",
   "execution_count": 1,
   "metadata": {},
   "outputs": [
    {
     "name": "stdout",
     "output_type": "stream",
     "text": [
      "[ 1, 2, 3 ]\n"
     ]
    }
   ],
   "source": [
    "const numbers = [1, 2, 3, ]; // 틀리는 경우가 없어서 권장되는 방법\n",
    "console.log(numbers);\n"
   ]
  },
  {
   "cell_type": "code",
   "execution_count": 2,
   "metadata": {},
   "outputs": [
    {
     "name": "stdout",
     "output_type": "stream",
     "text": [
      "[]\n"
     ]
    }
   ],
   "source": [
    "const moreNumbers = new Array(); // []\n",
    "console.log(moreNumbers);"
   ]
  },
  {
   "cell_type": "code",
   "execution_count": 3,
   "metadata": {},
   "outputs": [
    {
     "name": "stdout",
     "output_type": "stream",
     "text": [
      "[ 1, 2 ]\n"
     ]
    }
   ],
   "source": [
    "const yetMoreNumbers = Array.of(1, 2);\n",
    "console.log(yetMoreNumbers);"
   ]
  },
  {
   "cell_type": "code",
   "execution_count": 4,
   "metadata": {},
   "outputs": [
    {
     "name": "stdout",
     "output_type": "stream",
     "text": [
      "[ 'H', 'i', '!' ]\n"
     ]
    }
   ],
   "source": [
    "const newArray = Array.from('Hi!');\n",
    "console.log(newArray);"
   ]
  }
 ],
 "metadata": {
  "kernelspec": {
   "display_name": "JavaScript (Node.js)",
   "language": "javascript",
   "name": "javascript"
  },
  "language_info": {
   "file_extension": ".js",
   "mimetype": "application/javascript",
   "name": "javascript",
   "version": "20.11.1"
  }
 },
 "nbformat": 4,
 "nbformat_minor": 2
}
