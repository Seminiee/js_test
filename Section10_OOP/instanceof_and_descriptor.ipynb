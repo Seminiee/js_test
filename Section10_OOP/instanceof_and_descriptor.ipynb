{
 "cells": [
  {
   "cell_type": "markdown",
   "metadata": {},
   "source": [
    "### Section 10 260(`instanceof` 연산자)\n",
    "\n",
    "- javascript에서 클래스로 인스턴스를 생성해도 `typeof`를 하면 object 즉 객체\n",
    "- 하지만 class의 인스턴스라는 것을 인지하고 있음\n",
    "- `instanceof`는 현재 객체가 이 클래스 기반의 인스턴스인지 나타내는 연산자"
   ]
  },
  {
   "cell_type": "code",
   "execution_count": 1,
   "metadata": {},
   "outputs": [],
   "source": [
    "class Person {\n",
    "    name = 'max';\n",
    "    age = 31;\n",
    "}"
   ]
  },
  {
   "cell_type": "code",
   "execution_count": 2,
   "metadata": {},
   "outputs": [],
   "source": [
    "const p = new Person();"
   ]
  },
  {
   "cell_type": "code",
   "execution_count": 4,
   "metadata": {},
   "outputs": [
    {
     "name": "stdout",
     "output_type": "stream",
     "text": [
      "object\n"
     ]
    }
   ],
   "source": [
    "console.log(typeof p);"
   ]
  },
  {
   "cell_type": "code",
   "execution_count": 3,
   "metadata": {},
   "outputs": [
    {
     "name": "stdout",
     "output_type": "stream",
     "text": [
      "true\n"
     ]
    }
   ],
   "source": [
    "console.log(p instanceof Person);"
   ]
  },
  {
   "cell_type": "markdown",
   "metadata": {},
   "source": [
    "### Section 10 261 (빌트인 클래스)\n",
    "\n",
    "- 빈 객체는 리터럴 `{}`뿐만 아니라 `new Object()`로도 생성 가능\n",
    "- 후자가 전자보다 줄이 길기도 하고 성능적으로도 좀 더 느리므로 거의 사용X -> 객체 리터럴 사용!"
   ]
  },
  {
   "cell_type": "code",
   "execution_count": 5,
   "metadata": {},
   "outputs": [],
   "source": [
    "const p1 = {};\n",
    "const p2 = new Object();"
   ]
  },
  {
   "cell_type": "code",
   "execution_count": 6,
   "metadata": {},
   "outputs": [
    {
     "name": "stdout",
     "output_type": "stream",
     "text": [
      "{}\n",
      "{}\n"
     ]
    }
   ],
   "source": [
    "console.log(p1);\n",
    "console.log(p2);"
   ]
  },
  {
   "cell_type": "markdown",
   "metadata": {},
   "source": [
    "### Section 10 262 (객체 설명자 이해하기)\n",
    "\n",
    "- `getOwnPropertyDescriptors(obj)`: obj의 메타데이터로 구성된 새로운 객체 리턴"
   ]
  },
  {
   "cell_type": "code",
   "execution_count": 7,
   "metadata": {},
   "outputs": [],
   "source": [
    "const person = {\n",
    "    name: 'Max',\n",
    "    greet() {\n",
    "        console.log(this.name);\n",
    "    }\n",
    "}"
   ]
  },
  {
   "cell_type": "code",
   "execution_count": 8,
   "metadata": {},
   "outputs": [
    {
     "data": {
      "text/plain": [
       "{ name: 'Max', greet: [Function: greet] }"
      ]
     },
     "execution_count": 8,
     "metadata": {},
     "output_type": "execute_result"
    }
   ],
   "source": [
    "person"
   ]
  },
  {
   "cell_type": "code",
   "execution_count": 9,
   "metadata": {},
   "outputs": [
    {
     "data": {
      "text/plain": [
       "{\n",
       "  name: {\n",
       "    value: 'Max',\n",
       "    writable: true,\n",
       "    enumerable: true,\n",
       "    configurable: true\n",
       "  },\n",
       "  greet: {\n",
       "    value: [Function: greet],\n",
       "    writable: true,\n",
       "    enumerable: true,\n",
       "    configurable: true\n",
       "  }\n",
       "}"
      ]
     },
     "execution_count": 9,
     "metadata": {},
     "output_type": "execute_result"
    }
   ],
   "source": [
    "Object.getOwnPropertyDescriptors(person)"
   ]
  },
  {
   "cell_type": "code",
   "execution_count": 10,
   "metadata": {},
   "outputs": [
    {
     "data": {
      "text/plain": [
       "{ name: 'Max', greet: [Function: greet] }"
      ]
     },
     "execution_count": 10,
     "metadata": {},
     "output_type": "execute_result"
    }
   ],
   "source": [
    "Object.defineProperty(person, 'name', {\n",
    "    configurable: true,\n",
    "    enumerable: true,\n",
    "    value: person.name,\n",
    "    writable: false\n",
    "});"
   ]
  },
  {
   "cell_type": "code",
   "execution_count": 11,
   "metadata": {},
   "outputs": [
    {
     "data": {
      "text/plain": [
       "'Maximilian'"
      ]
     },
     "execution_count": 11,
     "metadata": {},
     "output_type": "execute_result"
    }
   ],
   "source": [
    "person.name = 'Maximilian';"
   ]
  },
  {
   "cell_type": "code",
   "execution_count": 12,
   "metadata": {},
   "outputs": [
    {
     "data": {
      "text/plain": [
       "{ name: 'Max', greet: [Function: greet] }"
      ]
     },
     "execution_count": 12,
     "metadata": {},
     "output_type": "execute_result"
    }
   ],
   "source": [
    "person"
   ]
  },
  {
   "cell_type": "code",
   "execution_count": null,
   "metadata": {},
   "outputs": [],
   "source": [
    "Object.defineProperty(person, 'name', {\n",
    "    configurable: true,\n",
    "    enumerable: true,\n",
    "    value: person.name,\n",
    "    writable: false\n",
    "});"
   ]
  }
 ],
 "metadata": {
  "kernelspec": {
   "display_name": "JavaScript (Node.js)",
   "language": "javascript",
   "name": "javascript"
  },
  "language_info": {
   "file_extension": ".js",
   "mimetype": "application/javascript",
   "name": "javascript",
   "version": "20.11.1"
  }
 },
 "nbformat": 4,
 "nbformat_minor": 2
}
