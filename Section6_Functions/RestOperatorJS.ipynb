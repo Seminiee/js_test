{
 "cells": [
  {
   "cell_type": "markdown",
   "metadata": {},
   "source": [
    "## Rest Operator in Function Parameters\n",
    "***\n",
    "\n",
    "`...PARAMETER`\n",
    "- 이 함수가 얻는 모든 인수를 원하는 만큼 많이 가져와서 배열에 합치는 것 -> 함수 안에 배열을 설계하는 것\n",
    "- Rest 연산자는 항상 마지막 인수여야 함\n",
    "```javascript\n",
    "const sumUp = (...numbers) => {}\n",
    "\n",
    "const sumUp2 = (...numbers, a) => {}\n",
    "\n",
    "const sumUp3 = (a,b,...numbers) => {}\n",
    "```\n",
    "`sumUp2`의 `a`파라미터는 유효하지 않다 -> Rest Operator가 다 잡아먹기 때문에   \n",
    "`sumUp3` 함수는 `sum`을 계산할 때 앞에 두 개의 파라미터는 제외될 것이다.\n",
    "***\n",
    "### ES6 이전 방식\n",
    "- `arguments`사용\n",
    "    - javascript의 예약어\n",
    "- 지금은 Rest 연산자 사용!\n",
    "```javascript\n",
    "const subtractUp = function() {\n",
    "    let sum = 0;\n",
    "    for (const num of arguments) { // don't use that\n",
    "        sum -= num;\n",
    "    }\n",
    "    return sum;\n",
    "}\n",
    "```"
   ]
  },
  {
   "cell_type": "code",
   "execution_count": 1,
   "metadata": {},
   "outputs": [
    {
     "data": {
      "text/plain": [
       "29"
      ]
     },
     "execution_count": 1,
     "metadata": {},
     "output_type": "execute_result"
    }
   ],
   "source": [
    "const sumUp = (...numbers) => {\n",
    "    let sum = 0;\n",
    "    for (const num of numbers) {\n",
    "        sum += num;\n",
    "    }\n",
    "    return sum;\n",
    "}\n",
    "\n",
    "sumUp(1, 5, 10, -3, 6, 10);\n"
   ]
  },
  {
   "cell_type": "code",
   "execution_count": 2,
   "metadata": {},
   "outputs": [
    {
     "data": {
      "text/plain": [
       "142"
      ]
     },
     "execution_count": 2,
     "metadata": {},
     "output_type": "execute_result"
    }
   ],
   "source": [
    "sumUp(1, 5, 10, -3, 6, 10, 25, 88);"
   ]
  },
  {
   "cell_type": "markdown",
   "metadata": {},
   "source": [
    "## 함수 내에서 함수 생성하기 - Section 6 138 \n",
    "***"
   ]
  },
  {
   "cell_type": "code",
   "execution_count": 1,
   "metadata": {},
   "outputs": [],
   "source": [
    "const sumUp = (...numbers) => {\n",
    "    const validateNumber = (number) => {\n",
    "        return isNaN(number) ? 0 : number;\n",
    "    };\n",
    "    let sum = 0;\n",
    "    for (const num of numbers) {\n",
    "        sum += validateNumber(num);\n",
    "    }\n",
    "    return sum;\n",
    "}"
   ]
  },
  {
   "cell_type": "code",
   "execution_count": 3,
   "metadata": {},
   "outputs": [
    {
     "data": {
      "text/plain": [
       "132"
      ]
     },
     "execution_count": 3,
     "metadata": {},
     "output_type": "execute_result"
    }
   ],
   "source": [
    "sumUp(1, 5, 'j',0, -3, 6, 10, 25, 88);"
   ]
  },
  {
   "cell_type": "markdown",
   "metadata": {},
   "source": [
    "## 콜백 함수 이해하기 - Section 6 139\n",
    "***"
   ]
  },
  {
   "cell_type": "code",
   "execution_count": 1,
   "metadata": {},
   "outputs": [],
   "source": [
    "const sumUp = (resultHandler, ...numbers) => {\n",
    "    const validateNumber = (number) => {\n",
    "        return isNaN(number) ? 0 : number;\n",
    "    };\n",
    "    let sum = 0;\n",
    "    for (const num of numbers) {\n",
    "        sum += validateNumber(num);\n",
    "    }\n",
    "    resultHandler(sum);\n",
    "};\n",
    "\n",
    "const showResult = (result) => {\n",
    "    //alert('The result after adding all numbers is: ' + result);\n",
    "    console.log('The result after adding all numbers is: ' + result);\n",
    "};"
   ]
  },
  {
   "cell_type": "code",
   "execution_count": 2,
   "metadata": {},
   "outputs": [
    {
     "name": "stdout",
     "output_type": "stream",
     "text": [
      "The result after adding all numbers is: 132\n"
     ]
    }
   ],
   "source": [
    "sumUp(showResult, 1, 5, 'j',0, -3, 6, 10, 25, 88);"
   ]
  }
 ],
 "metadata": {
  "kernelspec": {
   "display_name": "JavaScript (Node.js)",
   "language": "javascript",
   "name": "javascript"
  },
  "language_info": {
   "file_extension": ".js",
   "mimetype": "application/javascript",
   "name": "javascript",
   "version": "20.11.1"
  }
 },
 "nbformat": 4,
 "nbformat_minor": 2
}
